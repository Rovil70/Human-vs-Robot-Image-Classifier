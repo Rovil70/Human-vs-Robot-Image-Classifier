{
 "cells": [
  {
   "cell_type": "markdown",
   "id": "ef0fd0a0",
   "metadata": {},
   "source": [
    "Resized ALL images to (150*150)"
   ]
  },
  {
   "cell_type": "code",
   "execution_count": 2,
   "id": "e94d9154",
   "metadata": {},
   "outputs": [
    {
     "name": "stderr",
     "output_type": "stream",
     "text": [
      "c:\\Users\\Lenovo\\anaconda3\\Lib\\site-packages\\PIL\\Image.py:1056: UserWarning: Palette images with Transparency expressed in bytes should be converted to RGBA images\n",
      "  warnings.warn(\n"
     ]
    },
    {
     "name": "stdout",
     "output_type": "stream",
     "text": [
      "Skipping 240315163843-decoded-explainer-humanoid-thumb.jpg: cannot identify image file 'D:\\\\Practice+Learning\\\\Human VS Robot Classifier\\\\Dataset\\\\Robot_Face\\\\240315163843-decoded-explainer-humanoid-thumb.jpg'\n",
      "Skipping 3d-rendering-of-female-robot-head.jpg: cannot identify image file 'D:\\\\Practice+Learning\\\\Human VS Robot Classifier\\\\Dataset\\\\Robot_Face\\\\3d-rendering-of-female-robot-head.jpg'\n",
      "Skipping chat-bot-icons-chatbot-robots-with-message-bubble.jpg: cannot identify image file 'D:\\\\Practice+Learning\\\\Human VS Robot Classifier\\\\Dataset\\\\Robot_Face\\\\chat-bot-icons-chatbot-robots-with-message-bubble.jpg'\n",
      "Skipping digital-human-head-concept-for-ai-metaverse-and-facial-recog.jpg: cannot identify image file 'D:\\\\Practice+Learning\\\\Human VS Robot Classifier\\\\Dataset\\\\Robot_Face\\\\digital-human-head-concept-for-ai-metaverse-and-facial-recog.jpg'\n",
      "Skipping living-cells-robot-face.jpg: cannot identify image file 'D:\\\\Practice+Learning\\\\Human VS Robot Classifier\\\\Dataset\\\\Robot_Face\\\\living-cells-robot-face.jpg'\n",
      "Skipping multi-purpose-robot-drawing.jpg: cannot identify image file 'D:\\\\Practice+Learning\\\\Human VS Robot Classifier\\\\Dataset\\\\Robot_Face\\\\multi-purpose-robot-drawing.jpg'\n",
      "Skipping portrait-of-woman-cyborg.jpg: cannot identify image file 'D:\\\\Practice+Learning\\\\Human VS Robot Classifier\\\\Dataset\\\\Robot_Face\\\\portrait-of-woman-cyborg.jpg'\n",
      "Skipping robot-doodle-5.jpg: cannot identify image file 'D:\\\\Practice+Learning\\\\Human VS Robot Classifier\\\\Dataset\\\\Robot_Face\\\\robot-doodle-5.jpg'\n",
      "Skipping robot-doodle-6.jpg: cannot identify image file 'D:\\\\Practice+Learning\\\\Human VS Robot Classifier\\\\Dataset\\\\Robot_Face\\\\robot-doodle-6.jpg'\n",
      "Skipping robot-face-isolated-transparent-background_1073071-8351.jpg: cannot identify image file 'D:\\\\Practice+Learning\\\\Human VS Robot Classifier\\\\Dataset\\\\Robot_Face\\\\robot-face-isolated-transparent-background_1073071-8351.jpg'\n",
      "Skipping robot-face-isolated-transparent-background_1073071-8352.jpg: cannot identify image file 'D:\\\\Practice+Learning\\\\Human VS Robot Classifier\\\\Dataset\\\\Robot_Face\\\\robot-face-isolated-transparent-background_1073071-8352.jpg'\n",
      "Skipping robot-woman-sci-fi-android-female-artificial-intelligence-3d.jpg: cannot identify image file 'D:\\\\Practice+Learning\\\\Human VS Robot Classifier\\\\Dataset\\\\Robot_Face\\\\robot-woman-sci-fi-android-female-artificial-intelligence-3d.jpg'\n",
      "Skipping robots-beauty.jpg: cannot identify image file 'D:\\\\Practice+Learning\\\\Human VS Robot Classifier\\\\Dataset\\\\Robot_Face\\\\robots-beauty.jpg'\n",
      "Skipping robots-head-in-face.jpg: cannot identify image file 'D:\\\\Practice+Learning\\\\Human VS Robot Classifier\\\\Dataset\\\\Robot_Face\\\\robots-head-in-face.jpg'\n",
      "Skipping robots-head.jpg: cannot identify image file 'D:\\\\Practice+Learning\\\\Human VS Robot Classifier\\\\Dataset\\\\Robot_Face\\\\robots-head.jpg'\n",
      "Skipping robot_face_by_hanjorafael_dclbg31-fullview.png: cannot identify image file 'D:\\\\Practice+Learning\\\\Human VS Robot Classifier\\\\Dataset\\\\Robot_Face\\\\robot_face_by_hanjorafael_dclbg31-fullview.png'\n"
     ]
    }
   ],
   "source": [
    "from PIL import Image\n",
    "import os\n",
    "\n",
    "def resize_images(input_folder, output_folder, size=(150, 150)):\n",
    "    os.makedirs(output_folder, exist_ok=True)\n",
    "    for filename in os.listdir(input_folder):\n",
    "        if filename.lower().endswith(('.jpg', '.jpeg', '.png')):\n",
    "            try:\n",
    "                img = Image.open(os.path.join(input_folder, filename)).convert(\"RGB\")\n",
    "                img = img.resize(size)\n",
    "                img.save(os.path.join(output_folder, filename))\n",
    "            except Exception as e:\n",
    "                print(f\"Skipping {filename}: {e}\")\n",
    "\n",
    "# Resize both classes\n",
    "resize_images(\n",
    "    r\"D:\\Practice+Learning\\Human VS Robot Classifier\\Dataset\\Robot_Face\",\n",
    "    r\"D:\\Practice+Learning\\Human VS Robot Classifier\\Resized\\robots\"\n",
    ")\n",
    "\n",
    "resize_images(\n",
    "    r\"D:\\Practice+Learning\\Human VS Robot Classifier\\Dataset\\Human_Face\",\n",
    "    r\"D:\\Practice+Learning\\Human VS Robot Classifier\\Resized\\humans\"\n",
    ")\n"
   ]
  }
 ],
 "metadata": {
  "kernelspec": {
   "display_name": "base",
   "language": "python",
   "name": "python3"
  },
  "language_info": {
   "codemirror_mode": {
    "name": "ipython",
    "version": 3
   },
   "file_extension": ".py",
   "mimetype": "text/x-python",
   "name": "python",
   "nbconvert_exporter": "python",
   "pygments_lexer": "ipython3",
   "version": "3.12.7"
  }
 },
 "nbformat": 4,
 "nbformat_minor": 5
}
